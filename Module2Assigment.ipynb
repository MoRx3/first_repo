{
 "cells": [
  {
   "cell_type": "markdown",
   "metadata": {},
   "source": [
    "# Coding assignment: traffic flow"
   ]
  },
  {
   "cell_type": "markdown",
   "metadata": {},
   "source": [
    "Nous allons résoudre l'équation d'évolution du trafic de voitures sur une route. C'est une équation à deux variables: le temps et l'espace. L'énoncé nous forunit les égalités suivantes:\n",
    "\n",
    "\\begin{equation}\n",
    "    V = V_{max}\\left(1-\\frac{\\rho}{\\rho_{max}}\\right)\n",
    "\\end{equation}\n",
    "\n",
    "\\begin{equation}\n",
    "    F=\\rho V\n",
    "\\end{equation}\n",
    "\n",
    "\\begin{equation}\n",
    "    \\frac{\\partial \\rho}{\\partial t} + \\frac{\\partial F}{\\partial x} = 0\n",
    "\\end{equation}\n",
    "\n",
    "où $\\rho_{max}$ et $V_{max}$ sont des constantes. En combinant la première équation avec la seconde, on a\n",
    "\n",
    "\\begin{equation}\n",
    "    F = \\rho V_{max}\\left(1-\\frac{\\rho}{\\rho_{max}}\\right)\n",
    "\\end{equation}\n",
    "\n",
    "Insérant cette expression dans la troisième équation, on a\n",
    "\n",
    "\\begin{align}\n",
    "    &\\frac{\\partial \\rho}{\\partial t} + V_{max} \\left(\\frac{\\partial \\rho}{\\partial x} \\left(1-\\frac{\\rho}{\\rho_{max}}\\right) - \\frac{\\rho}{\\rho_{max}} \\frac{\\partial \\rho}{\\partial x}\\right)=0\\\\\n",
    "    &\\Leftrightarrow \\frac{\\partial \\rho}{\\partial t} + \\frac{\\partial \\rho}{\\partial x} V_{max} \\left(1- \\frac{2 \\rho}{\\rho_{max}} \\right)=0\\\\\n",
    "\\end{align}\n",
    "\n",
    "Discrétisons le problème. Nous allons discrétiser les variables: ce seront des grilles de valeurs équidistantes. Les positions $x$ seront données par une série de valeurs {$x_{i}$}, et les temps seront des valeurs {$t^n$} équidistantes.\n",
    "\n",
    "Comme demandé dans l'énoncé du problème, nous approximerons la dérivée par rapport au temps par un quotient fini de la dérivée à droite de $\\rho$ par rapport au temps (forward-difference), et la dérivée par rapport à $x$ sera remplacée par un quotient de la dérivée à gauche (backward-difference):\n",
    "\n",
    "\\begin{align}\n",
    "    \\frac{\\rho_{i}^{n+1}-\\rho_{i}^n}{\\Delta t} + \\frac{\\rho_{i}^{n}-\\rho_{i-1}^{n}}{\\Delta x} V_{max} \\left(1- \\frac{2 \\rho_{i}^{n}}{\\rho_{max}} \\right)=0\\\\\n",
    "\\end{align}\n",
    "\n",
    "où $\\rho_{i}^n$ désigne la valeur de $\\rho$ au temps $t^n$ à la position $x_{i}$. D'autre part, nous connaissons $\\rho$ pour tout $x$ au temps $t=0$, c'est à dire pour $n=0$. Dans l'équation pour n=0, il ne nous manque que $\\rho_{i}^{n+1}$, nous pouvons l'isoler et ainsi le calculer. Nous connaîtrons $\\rho_{i}^1$ pour tout $i$, et pourrons calculer $\\rho_{i}^2$, etc.\n",
    "Isolons $\\rho_{i}^{n+1}$ :\n",
    "\n",
    "\\begin{align}\n",
    "    \\rho_{i}^{n+1}=\\rho_{i}^n - \\Delta t \\frac{\\rho_{i}^{n}-\\rho_{i-1}^{n}}{\\Delta x} V_{max} \\left(1- \\frac{2 \\rho_{i}^{n}}{\\rho_{max}} \\right)\n",
    "\\end{align}"
   ]
  },
  {
   "cell_type": "markdown",
   "metadata": {},
   "source": [
    "Implémentons cela en code. Il faut commencer par importer les modules:"
   ]
  },
  {
   "cell_type": "code",
   "execution_count": 1,
   "metadata": {
    "collapsed": true
   },
   "outputs": [],
   "source": [
    "import numpy\n",
    "from matplotlib import pyplot  \n",
    "%matplotlib inline"
   ]
  },
  {
   "cell_type": "markdown",
   "metadata": {},
   "source": [
    "Nous allons définir une fonction pour résoudre le problème, qui prend en paramètres le $\\rho$ initial ($\\rho_{0}$), le $\\rho$ à $x=0$ en tout temps ($\\rho_{lim}$) et la vitesse maximum des voitures ($V_{max}$). Ce sont les 3 paramètres que l'on devra faire varier."
   ]
  },
  {
   "cell_type": "code",
   "execution_count": 2,
   "metadata": {
    "collapsed": true
   },
   "outputs": [],
   "source": [
    "def spacetime(rho0,rholim,Vmax):\n",
    "    rho=numpy.ones((nt,nx))\n",
    "    rho[0,:]=rho0\n",
    "    rho[:,0]=rholim\n",
    "    \n",
    "    for n in range(1,nt):\n",
    "        rho[n,1:] = rho[n-1,1:]-Vmax*dt/dx*((1-rho[n-1,1:]/rhoMax)*rho[n-1,1:]-(1-rho[n-1,:-1]/rhoMax)*rho[n-1,:-1])\n",
    "        #rho[n,1:] = rho[n-1,1:]-Vmax*dt/dx*((1-2*rho[n-1,1:]/rhoMax)*(rho[n-1,1:]-rho[n-1,:-1]))\n",
    "    return rho"
   ]
  },
  {
   "cell_type": "markdown",
   "metadata": {},
   "source": [
    "La fonction commence par initialiser un tableau pour stocker les valeurs de $\\rho$ pour toutes les positions et tous les temps. Elle fixe ensuite les valeurs au temps 0 et les valeurs à la position 0 grâce aux arguments donnés. Une boucle parcourt les différentes valeurs du temps et calcule la valeur de $\\rho$ au temps suivant pour tous les $x$. Dans cette boucle, nous utilisons les opérations entre vecteurs (tableau numpy à une dimension) permises pour appliquer l'équation discrétisée ci-dessus à toutes les valeurs de $i$ en une seule ligne.\n",
    "La fonction renvoie ensuite le tableau des valeurs de $\\rho$.\n",
    "\n",
    "Nous avons donc maintenant toutes les valeurs de $\\rho$ à notre disposition. Les questions posées sont sur la vitesse, nous allons donc calculer la vitesse à toutes les temps et en toutes les positions par la formule suivante:\n",
    "\n",
    "\\begin{align}\n",
    "V = V_{max}\\left(1-\\frac{\\rho}{\\rho_{max}}\\right)\n",
    "\\end{align}\n",
    "\n",
    "Pour cela, créons une fonction qui prend en argument une valeur de $\\rho$ et renvoie la vitesse:"
   ]
  },
  {
   "cell_type": "code",
   "execution_count": 3,
   "metadata": {
    "collapsed": true
   },
   "outputs": [],
   "source": [
    "def V(rhoni,Vmax): #V est une fonction de rho[n,i]\n",
    "    return Vmax*(1-rhoni/rhoMax)"
   ]
  },
  {
   "cell_type": "markdown",
   "metadata": {},
   "source": [
    "Au lieu d'utiliser rho comme argument de la fonction, nous avons utilisé rhoni (pour rho[n,i]) pour éviter la confusion avec le tableau des valeurs de ρ (utiliser le même nom n'aurait pas posé de problème puisque les deux variables sont dans des fonctions différentes).\n",
    "Nous pouvons maintenant utiliser ces fonctions. Commençons par initialiser les paramètres (les unités des grandeurs physiques sont en heures et kilomètres):"
   ]
  },
  {
   "cell_type": "code",
   "execution_count": 4,
   "metadata": {
    "collapsed": true
   },
   "outputs": [],
   "source": [
    "L=11 #longueur de la route\n",
    "rhoMax=250\n",
    "nx=51 #l'espace est discrétisé en 50 valeurs\n",
    "dx=L/(nx-1) #l'espace est donc discrétisé par pas dx\n",
    "dt=.001 #le temps est discrétisé par pas de 0.001 heure\n",
    "nt=int(6/60/dt)+1 #le temps est donc discrétisé en nt valeurs"
   ]
  },
  {
   "cell_type": "markdown",
   "metadata": {},
   "source": [
    "# Première série de questions"
   ]
  },
  {
   "cell_type": "markdown",
   "metadata": {},
   "source": [
    "Pour la première série de questions, les paramètres $V_{max}$, $\\rho_{0}$ et $\\rho_{lim}$ sont les suivants:"
   ]
  },
  {
   "cell_type": "code",
   "execution_count": 5,
   "metadata": {
    "collapsed": true
   },
   "outputs": [],
   "source": [
    "Vmax1=80\n",
    "rho01 = numpy.ones(nx)*10\n",
    "rho01[10:20] = 50\n",
    "rholim1=numpy.ones(nt)*10"
   ]
  },
  {
   "cell_type": "markdown",
   "metadata": {},
   "source": [
    "Appelons maintenant la fonction pour trouver les valeurs $\\rho$:"
   ]
  },
  {
   "cell_type": "code",
   "execution_count": 6,
   "metadata": {
    "collapsed": true
   },
   "outputs": [],
   "source": [
    "rho1=spacetime(rho01,rholim1,Vmax1)"
   ]
  },
  {
   "cell_type": "markdown",
   "metadata": {},
   "source": [
    "Appelons maintenant la fonction pour calculer les valeurs de la vitesse. À nouveau, nous utilisons une facilité de numpy: après avoir créé un tableau pour les vitesses, la commande de calcul de celles-ci se fait en une ligne. Les valeurs des vitesses reçoivent par la fonction V l'image de la valeur du tableau de $\\rho$ qui a les mêmes indices."
   ]
  },
  {
   "cell_type": "code",
   "execution_count": 7,
   "metadata": {
    "collapsed": true
   },
   "outputs": [],
   "source": [
    "v1=numpy.ones((nt,nx))\n",
    "v1[:,:]=V(rho1[:,:],Vmax1)"
   ]
  },
  {
   "cell_type": "markdown",
   "metadata": {},
   "source": [
    "Il reste à utiliser des fonctions fournies par Python pour trouver le minimum de vitesse au temps 0, la moyenne à 3 minutes et le minimum à 6 minutes. La fonction min renvoie le minimum d'un vecteur, et la fonction sum fait les somme des ééments d'un vecteur."
   ]
  },
  {
   "cell_type": "code",
   "execution_count": 9,
   "metadata": {
    "collapsed": false
   },
   "outputs": [
    {
     "name": "stdout",
     "output_type": "stream",
     "text": [
      "La vitesse minimale à t=0 minute est: 17.7777777778\n",
      "La vitesse moyenne à t=3 minutes est: 20.6361661961\n",
      "Le vitesse minimale à t=6 minutes est: 18.7847168709\n"
     ]
    }
   ],
   "source": [
    "print(\"La vitesse minimale à t=0 minute est:\", min(v1[0,:])/3.6) \n",
    "print(\"La vitesse moyenne à t=3 minutes est:\", sum(v1[int(3/60/dt),:])/nx/3.6)\n",
    "print(\"Le vitesse minimale à t=6 minutes est:\", min(v1[int(6/60/dt),:])/3.6) "
   ]
  },
  {
   "cell_type": "markdown",
   "metadata": {},
   "source": [
    "# Deuxième série de questions"
   ]
  },
  {
   "cell_type": "markdown",
   "metadata": {},
   "source": [
    "Il nous reste maintenant à répondre aux questions de la seconde série. On peut réutiliser nos programmes et simplement changer les arguments et les conditions initiales."
   ]
  },
  {
   "cell_type": "code",
   "execution_count": 10,
   "metadata": {
    "collapsed": true
   },
   "outputs": [],
   "source": [
    "Vmax2=136\n",
    "rho02 = numpy.ones(nx)*20\n",
    "rho02[10:20] = 50\n",
    "rholim2=numpy.ones(nt)*20"
   ]
  },
  {
   "cell_type": "markdown",
   "metadata": {},
   "source": [
    "Tout est prêt pour appeler la fonction spacetime:"
   ]
  },
  {
   "cell_type": "code",
   "execution_count": 11,
   "metadata": {
    "collapsed": true
   },
   "outputs": [],
   "source": [
    "rho2=spacetime(rho02,rholim2,Vmax2)"
   ]
  },
  {
   "cell_type": "markdown",
   "metadata": {},
   "source": [
    "Comme précédemment, calculons les vitesses à l'aide de la fonction V:"
   ]
  },
  {
   "cell_type": "code",
   "execution_count": 12,
   "metadata": {
    "collapsed": true
   },
   "outputs": [],
   "source": [
    "v2=numpy.ones((nt,nx))\n",
    "v2[:,:]=V(rho2,Vmax2)"
   ]
  },
  {
   "cell_type": "markdown",
   "metadata": {},
   "source": [
    "On réutilise les mêmes fonctions fournies par Python pour trouver les minima et la moyenne."
   ]
  },
  {
   "cell_type": "code",
   "execution_count": 14,
   "metadata": {
    "collapsed": false
   },
   "outputs": [
    {
     "name": "stdout",
     "output_type": "stream",
     "text": [
      "La vitesse minimale à t=0 minute est: 30.2222222222\n",
      "La vitesse moyenne à t=3 minutes est: 33.872218191\n",
      "La vitesse minimale à t=6 minutes est: 30.9864026806\n"
     ]
    }
   ],
   "source": [
    "print(\"La vitesse minimale à t=0 minute est:\", min(v2[0,:])/3.6) \n",
    "print(\"La vitesse moyenne à t=3 minutes est:\", sum(v2[int(3/60/dt),:])/nx/3.6) \n",
    "print(\"La vitesse minimale à t=6 minutes est:\", min(v2[int(3/60/dt),:])/3.6) "
   ]
  }
 ],
 "metadata": {
  "kernelspec": {
   "display_name": "Python 3",
   "language": "python",
   "name": "python3"
  },
  "language_info": {
   "codemirror_mode": {
    "name": "ipython",
    "version": 3
   },
   "file_extension": ".py",
   "mimetype": "text/x-python",
   "name": "python",
   "nbconvert_exporter": "python",
   "pygments_lexer": "ipython3",
   "version": "3.4.3"
  }
 },
 "nbformat": 4,
 "nbformat_minor": 0
}
