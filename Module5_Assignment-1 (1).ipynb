{
 "cells": [
  {
   "cell_type": "markdown",
   "metadata": {},
   "source": [
    "# Coding assigment: Stokes Flow"
   ]
  },
  {
   "cell_type": "markdown",
   "metadata": {},
   "source": [
    "Le but de cet exposé sera de résoudre le flux de Stokes dans une cavité carrée, en utilisant la formulation vorticité-fonction de courant. \n",
    "Commençons par rappeler ce que l'on entend par \"Flux de Stokes\": il s'agit d'un flux dominé par des forces visqueuses et non pas par les forces de convection et d'advection. Cette hypothèse fonctionne bien pour des flux caractérisés par un très petit nombre de Reynolds, c'est à dire bien plus petit que 1: très lents et visqueux, ou si l'on considère des flux à des échelles microscopiques. "
   ]
  },
  {
   "cell_type": "markdown",
   "metadata": {},
   "source": [
    "# 1. Position du problème: "
   ]
  },
  {
   "cell_type": "markdown",
   "metadata": {},
   "source": [
    "Nous allons résoudre le problème dans une cavitéà deux dimensions. Les équations du problème sont\n",
    "\n",
    "\\begin{equation}\n",
    "\\nabla^2 \\omega = 0\n",
    "\\end{equation}\n",
    "\n",
    "\\begin{equation}\n",
    "\\nabla^2 \\psi = -\\omega\n",
    "\\end{equation}\n",
    "\n",
    "où $\\psi$ est la fonction de courant, et $\\omega$ la vorticité.\n",
    "On se donne les conditions aux bords suivantes: \n",
    "\n",
    "\\begin{equation}\n",
    "\\psi=0\n",
    "\\end{equation}\n",
    "\n",
    "sur tous les bords; \n",
    "\n",
    "\\begin{equation}\n",
    "\\frac{\\partial \\psi}{\\partial x}=0\n",
    "\\end{equation}\n",
    "\n",
    "sur les bords gauches et droits de la cavité;\n",
    "\n",
    "\\begin{equation}\n",
    "\\frac{\\partial \\psi}{\\partial y}=0\n",
    "\\end{equation}\n",
    "\n",
    "sur le bord inférieur; et \n",
    "\n",
    "\\begin{equation}\n",
    "\\frac{\\partial \\psi}{\\partial y}=u \n",
    "\\end{equation}\n",
    "\n",
    "sur le bord supérieur, avec $u=1$.\n",
    "\n",
    "Ces conditions sont représentées sur la figure en-dessous:"
   ]
  },
  {
   "cell_type": "code",
   "execution_count": 1,
   "metadata": {
    "collapsed": false
   },
   "outputs": [
    {
     "ename": "SyntaxError",
     "evalue": "invalid syntax (<ipython-input-1-2898263fb19c>, line 1)",
     "output_type": "error",
     "traceback": [
      "\u001b[1;36m  File \u001b[1;32m\"<ipython-input-1-2898263fb19c>\"\u001b[1;36m, line \u001b[1;32m1\u001b[0m\n\u001b[1;33m    <img src=\"./figures/drivencavity.svg\" width=400px>\u001b[0m\n\u001b[1;37m    ^\u001b[0m\n\u001b[1;31mSyntaxError\u001b[0m\u001b[1;31m:\u001b[0m invalid syntax\n"
     ]
    }
   ],
   "source": [
    "<img src=\"./figures/drivencavity.svg\" width=400px> ###image de la cavité à mettre avec le notebook"
   ]
  },
  {
   "cell_type": "markdown",
   "metadata": {},
   "source": [
    "On peut montrer que les conditions aux bords sur $\\psi$ et ses dérivées impliquent ces conditions sur $\\omega$:\n",
    "\n",
    "\\begin{equation}\n",
    "\\omega_{i,j} = -\\frac{1}{2 \\Delta y^2} (8\\psi_{i, j-1} - \\psi_{i, j-2}) - \\frac{3u}{\\Delta y} + \\mathcal{O}(\\Delta y^2)\n",
    "\\end{equation}\n",
    "\n",
    "sur le bord supérieur;\n",
    "\n",
    "\\begin{equation}\n",
    "\\omega_{i,j} = -\\frac{1}{2 \\Delta y^2} (8\\psi_{i, j+1} - \\psi_{i, j+2}) + \\mathcal{O}(\\Delta y^2)\n",
    "\\end{equation}\n",
    "\n",
    "sur le bord inférieur;\n",
    "\n",
    "\\begin{equation}\n",
    "\\omega_{i,j} = -\\frac{1}{2 \\Delta y^2} (8\\psi_{i-1,j} - \\psi_{i-2, j}) + \\mathcal{O}(\\Delta y^2)\n",
    "\\end{equation}\n",
    "\n",
    "sur le bord droit, et\n",
    "\n",
    "\\begin{equation}\n",
    "\\omega_{i,j} = -\\frac{1}{2 \\Delta y^2} (8\\psi_{i+1, j} - \\psi_{i+2, j}) + \\mathcal{O}(\\Delta y^2)\n",
    "\\end{equation}\n",
    "\n",
    "sur le bord gauche."
   ]
  },
  {
   "cell_type": "markdown",
   "metadata": {},
   "source": [
    "# 2. Méthode de Jacobi: "
   ]
  },
  {
   "cell_type": "markdown",
   "metadata": {},
   "source": [
    "Les équations à résoudre sont de la forme:\n",
    "\n",
    "$$\\frac{\\partial ^2 p}{\\partial x^2} + \\frac{\\partial ^2 p}{\\partial y^2} = b$$\n",
    "\n",
    "ou, sous forme discrétisée,\n",
    "\n",
    "$$\\frac{p_{i+1,j}^{k}-2p_{i,j}^{k}+p_{i-1,j}^{k}}{\\Delta x^2}+\\frac{p_{i,j+1}^{k}-2 p_{i,j}^{k}+p_{i,j-1}^{k}}{\\Delta y^2}=b_{i,j}^{k}$$\n",
    "\n",
    "ou encore:\n",
    "\n",
    "$$p_{i,j}^{k}=\\frac{(p_{i+1,j}^{k}+p_{i-1,j}^{k})\\Delta y^2+(p_{i,j+1}^{k}+p_{i,j-1}^{k})\\Delta x^2-b_{i,j}^{k}\\Delta x^2\\Delta y^2}{2(\\Delta x^2+\\Delta y^2)}$$\n",
    "\n",
    "Ceci motive à utiliser la méthode suivante: supposer une forme initiale pour la solution, calculer une forme (la $k+1$ ème) de la solution un peu plus proche de la solution exacte avec la formule\n",
    "\n",
    "$$p_{i,j}^{k+1}=\\frac{(p_{i+1,j}^{k}+p_{i-1,j}^{k})\\Delta y^2+(p_{i,j+1}^{k}+p_{i,j-1}^{k})\\Delta x^2-b_{i,j}^{k}\\Delta x^2\\Delta y^2}{2(\\Delta x^2+\\Delta y^2)}$$\n",
    "\n",
    "Ainsi, la solution devrait s'approcher de la solution finale, donc l'écart entre les itérations de la solution devraient diminuer. Nous stopperons lorsque l'itération suivante sera suffisamment proche de la précédente. La norme $L_1$ de la différence entre deux itérations devra atteindre une valeur inférieure à $10^{-6}$. C'est donc une sorte de généralisation de la méthode de Jacobi, qui s'applique aux équations de Laplace.\n",
    "\n",
    "Puisque nous avons deux équations couplées, il faut relaxer $\\omega$ et $\\psi$ en même temps, donc $\\omega^{k+1}$ et $\\psi^{k+1}$ dans la même boucle. Les normes $L_1$ des différences entre deux itérations de $\\psi$ et deux itérations de $\\omega$ devront être inférieures à $10^{-6}$. A chaque étape, il faudra aussi imposer les condition de bord sur $\\psi$ et $\\omega$.\n"
   ]
  },
  {
   "cell_type": "markdown",
   "metadata": {},
   "source": [
    "# 3. Résolution: "
   ]
  },
  {
   "cell_type": "code",
   "execution_count": 27,
   "metadata": {
    "collapsed": true
   },
   "outputs": [],
   "source": [
    "import numpy as np\n",
    "from matplotlib import pyplot\n",
    "%matplotlib inline\n",
    "from matplotlib import rcParams\n",
    "rcParams['font.family'] = 'serif'\n",
    "rcParams['font.size'] = 16\n",
    "from matplotlib import cm\n"
   ]
  },
  {
   "cell_type": "markdown",
   "metadata": {},
   "source": [
    "On écrit les fonctions calculant la différence entre les deux valeurs des fonctions après chaque itération (nouvelle valeur -ancienne valeur)\n"
   ]
  },
  {
   "cell_type": "code",
   "execution_count": 28,
   "metadata": {
    "collapsed": true
   },
   "outputs": [],
   "source": [
    "def L1norm(new, old):\n",
    "    norm = np.sum(np.abs(new-old))\n",
    "    return norm"
   ]
  },
  {
   "cell_type": "markdown",
   "metadata": {},
   "source": [
    "Eciture de la fonction implémentant la méthode itérative: "
   ]
  },
  {
   "cell_type": "code",
   "execution_count": 43,
   "metadata": {
    "collapsed": false
   },
   "outputs": [],
   "source": [
    "def Stokes2d(omega, psi, l1_target, dx,dy):\n",
    "    l1normPsi=1\n",
    "    l1normOmega=1\n",
    "    omegan=np.zeros_like(omega)\n",
    "    psin=np.zeros_like(psi)\n",
    "    \n",
    "    while l1normPsi>l1_target or l1normOmega>l1_target:\n",
    "        omegan=omega.copy()\n",
    "        psin=psi.copy()\n",
    "        psi[1:-1,1:-1]=( (psin[1:-1,2:]+psin[1:-1,:-2])*dx**2\\\n",
    "                        +(psin[2:,1:-1]+psin[:-2,1:-1])*dy**2\\\n",
    "                        +omegan[1:-1,1:-1]*dx**2*dy**2\\\n",
    "                       )/(2*dx**2+2*dy**2)\n",
    "        \n",
    "        omega[1:-1,1:-1]=( (omegan[1:-1,2:]+omegan[1:-1,:-2])*dx**2\\\n",
    "                        +(omegan[2:,1:-1]+omegan[:-2,1:-1])*dy**2\\\n",
    "                         )/(2*dx**2+2*dy**2)\n",
    "        \n",
    "        #Conditions aux bords pour psi (bord gauche, droit, inférieur, supérieur) \n",
    "        psi[0,:]=0\n",
    "        psi[-1,:]=0\n",
    "        psi[:,0]=0\n",
    "        psi[:,-1]=0\n",
    "        \n",
    "        #Conditions aux bords pour omega (dépendent de psi) dans l'ordre suivant: bord supérieur, \n",
    "        #bord inférieur, bord de droite, bord de gauche:\n",
    "        omega[:,-1]=-1/(2*dy**2)*(8*psi[:,-2]-psi[:,-3])-3/dy\n",
    "        omega[:,0]=-1/(2*(dy**2))*(8*psi[:,1]-psi[:,2])\n",
    "        omega[-1,:]=-1/(2*(dx**2))*(8*psi[-2,:]-psi[-3,:])\n",
    "        omega[0,:]=-1/(2*(dx**2))*(8*psi[1,:]-psi[2,:])\n",
    "           \n",
    "        l1normPsi=L1norm(psi, psin)\n",
    "        l1normOmega=L1norm(omega,omegan)\n",
    "    \n",
    "    return psi,omega"
   ]
  },
  {
   "cell_type": "code",
   "execution_count": 44,
   "metadata": {
    "collapsed": false
   },
   "outputs": [],
   "source": [
    "#Conditions initiales:\n",
    "nx = 41\n",
    "ny = 41\n",
    "\n",
    "l = 1.\n",
    "h = 1.\n",
    "\n",
    "dx = l/(nx-1)\n",
    "dy = h/(ny-1)\n",
    "\n",
    "l1_target = 1e-6\n",
    "\n",
    "x=np.linspace(0,1,nx)\n",
    "y=np.linspace(0,1,ny)\n",
    "\n",
    "omega=np.zeros((nx,ny))\n",
    "psi=np.zeros((nx,ny))"
   ]
  },
  {
   "cell_type": "markdown",
   "metadata": {},
   "source": [
    "On peut maintenant lancer notre fonction:"
   ]
  },
  {
   "cell_type": "code",
   "execution_count": 45,
   "metadata": {
    "collapsed": false
   },
   "outputs": [],
   "source": [
    "#Application de la fonction:\n",
    "psif,omegaf=Stokes2d(omega, psi, l1_target, dx,dy)"
   ]
  },
  {
   "cell_type": "markdown",
   "metadata": {},
   "source": [
    "Pour dresser le graphique de la solution $\\psi$, il faut d'abord inverser les coordonées $x$ et $y$ dans la solution, pour la visualiser dans le bon sens."
   ]
  },
  {
   "cell_type": "code",
   "execution_count": 48,
   "metadata": {
    "collapsed": false
   },
   "outputs": [
    {
     "data": {
      "image/png": "[encoded data removed]",
      "text/plain": [
       "<matplotlib.figure.Figure at 0x7532828>"
      ]
     },
     "metadata": {},
     "output_type": "display_data"
    }
   ],
   "source": [
    "psiGraphique=np.zeros((nx,ny))\n",
    "for i in range (nx):\n",
    "    for j in range (ny):\n",
    "        psiGraphique[i,j]=psif[j,i]\n",
    "\n",
    "#Graphique\n",
    "x=np.linspace(0,l,nx)\n",
    "y=np.linspace(0,h,ny)\n",
    "mx, my = np.meshgrid(x,y)\n",
    "pyplot.figure(figsize=(8,6))\n",
    "pyplot.contourf(mx,my,psiGraphique,20)\n",
    "pyplot.xlabel('$x$')\n",
    "pyplot.ylabel('$y$')\n",
    "pyplot.colorbar();"
   ]
  },
  {
   "cell_type": "markdown",
   "metadata": {
    "collapsed": true
   },
   "source": [
    "# Réponses aux questions "
   ]
  },
  {
   "cell_type": "markdown",
   "metadata": {},
   "source": [
    "Ecrivons maintenant le code pour répondre aux questions sur les solutions calculées.\n",
    "La fonction $amax$ nous trouve la valeur maximale d'un tableau:"
   ]
  },
  {
   "cell_type": "code",
   "execution_count": 49,
   "metadata": {
    "collapsed": false
   },
   "outputs": [
    {
     "name": "stdout",
     "output_type": "stream",
     "text": [
      "0.0998451724622\n",
      "78.1926612286\n"
     ]
    }
   ],
   "source": [
    "print(np.amax(abs(psif)))\n",
    "print(np.amax(abs(omegaf)))"
   ]
  },
  {
   "cell_type": "markdown",
   "metadata": {},
   "source": [
    "La questions suivante demande d'exécuter le code ci-dessous:"
   ]
  },
  {
   "cell_type": "code",
   "execution_count": 50,
   "metadata": {
    "collapsed": false
   },
   "outputs": [
    {
     "data": {
      "text/plain": [
       "array([ 0.    , -0.0575, -0.0944, -0.0944, -0.0575,  0.    ])"
      ]
     },
     "execution_count": 50,
     "metadata": {},
     "output_type": "execute_result"
    }
   ],
   "source": [
    "np.round(psiGraphique[32,::8], 4)"
   ]
  },
  {
   "cell_type": "code",
   "execution_count": null,
   "metadata": {
    "collapsed": true
   },
   "outputs": [],
   "source": []
  }
 ],
 "metadata": {
  "kernelspec": {
   "display_name": "Python 3",
   "language": "python",
   "name": "python3"
  },
  "language_info": {
   "codemirror_mode": {
    "name": "ipython",
    "version": 3
   },
   "file_extension": ".py",
   "mimetype": "text/x-python",
   "name": "python",
   "nbconvert_exporter": "python",
   "pygments_lexer": "ipython3",
   "version": "3.4.4"
  }
 },
 "nbformat": 4,
 "nbformat_minor": 0
}
